{
 "cells": [
  {
   "cell_type": "code",
   "execution_count": 1,
   "metadata": {},
   "outputs": [],
   "source": [
    "import sys\n",
    "import os\n",
    "# Import modules\n",
    "import numpy as np\n",
    "import matplotlib\n",
    "matplotlib.use('agg')\n",
    "import matplotlib.pyplot as plt\n",
    "import multiprocessing as mp"
   ]
  },
  {
   "cell_type": "code",
   "execution_count": 2,
   "metadata": {},
   "outputs": [
    {
     "name": "stdout",
     "output_type": "stream",
     "text": [
      "Import everything: including opening files, etc. \n",
      "Directory: /rdsgpfs/general/user/lm2612/home/Ridge/Notebooks\n",
      "Opening /work/lm2612/data/AvgData/All_input_Allfixed_5yr.nc ... \n",
      "Scenarios: ['No SO2 East Asia', 'No BC NHML', 'No SO2 NHML', 'No SO2 China', 'No SO2 US', 'No SO2 India', 'No SO2 Europe', 'No Dust Arabia', '2% Solar Constant increase', '3X CH4', '10X CFC-12', '10X Asia SO4', '2X CO2', '10X Asia BC', '10X BC', '10X Europe SO4', '5X SO4', 'pre-industrial SO4', 'No BC Global', '2xCO2 Global', 'No CO Global', 'No OC Global', 'No CH4 Global', 'No SO2 Global', 'No NOX Global', 'No VOC Global']\n",
      "Done opening file \n",
      "(masked_array(data=[  0.   ,   1.875,   3.75 ,   5.625,   7.5  ,   9.375,\n",
      "                    11.25 ,  13.125,  15.   ,  16.875,  18.75 ,  20.625,\n",
      "                    22.5  ,  24.375,  26.25 ,  28.125,  30.   ,  31.875,\n",
      "                    33.75 ,  35.625,  37.5  ,  39.375,  41.25 ,  43.125,\n",
      "                    45.   ,  46.875,  48.75 ,  50.625,  52.5  ,  54.375,\n",
      "                    56.25 ,  58.125,  60.   ,  61.875,  63.75 ,  65.625,\n",
      "                    67.5  ,  69.375,  71.25 ,  73.125,  75.   ,  76.875,\n",
      "                    78.75 ,  80.625,  82.5  ,  84.375,  86.25 ,  88.125,\n",
      "                    90.   ,  91.875,  93.75 ,  95.625,  97.5  ,  99.375,\n",
      "                   101.25 , 103.125, 105.   , 106.875, 108.75 , 110.625,\n",
      "                   112.5  , 114.375, 116.25 , 118.125, 120.   , 121.875,\n",
      "                   123.75 , 125.625, 127.5  , 129.375, 131.25 , 133.125,\n",
      "                   135.   , 136.875, 138.75 , 140.625, 142.5  , 144.375,\n",
      "                   146.25 , 148.125, 150.   , 151.875, 153.75 , 155.625,\n",
      "                   157.5  , 159.375, 161.25 , 163.125, 165.   , 166.875,\n",
      "                   168.75 , 170.625, 172.5  , 174.375, 176.25 , 178.125,\n",
      "                   180.   , 181.875, 183.75 , 185.625, 187.5  , 189.375,\n",
      "                   191.25 , 193.125, 195.   , 196.875, 198.75 , 200.625,\n",
      "                   202.5  , 204.375, 206.25 , 208.125, 210.   , 211.875,\n",
      "                   213.75 , 215.625, 217.5  , 219.375, 221.25 , 223.125,\n",
      "                   225.   , 226.875, 228.75 , 230.625, 232.5  , 234.375,\n",
      "                   236.25 , 238.125, 240.   , 241.875, 243.75 , 245.625,\n",
      "                   247.5  , 249.375, 251.25 , 253.125, 255.   , 256.875,\n",
      "                   258.75 , 260.625, 262.5  , 264.375, 266.25 , 268.125,\n",
      "                   270.   , 271.875, 273.75 , 275.625, 277.5  , 279.375,\n",
      "                   281.25 , 283.125, 285.   , 286.875, 288.75 , 290.625,\n",
      "                   292.5  , 294.375, 296.25 , 298.125, 300.   , 301.875,\n",
      "                   303.75 , 305.625, 307.5  , 309.375, 311.25 , 313.125,\n",
      "                   315.   , 316.875, 318.75 , 320.625, 322.5  , 324.375,\n",
      "                   326.25 , 328.125, 330.   , 331.875, 333.75 , 335.625,\n",
      "                   337.5  , 339.375, 341.25 , 343.125, 345.   , 346.875,\n",
      "                   348.75 , 350.625, 352.5  , 354.375, 356.25 , 358.125],\n",
      "             mask=False,\n",
      "       fill_value=1e+20), masked_array(data=[-90.  , -88.75, -87.5 , -86.25, -85.  , -83.75, -82.5 ,\n",
      "                   -81.25, -80.  , -78.75, -77.5 , -76.25, -75.  , -73.75,\n",
      "                   -72.5 , -71.25, -70.  , -68.75, -67.5 , -66.25, -65.  ,\n",
      "                   -63.75, -62.5 , -61.25, -60.  , -58.75, -57.5 , -56.25,\n",
      "                   -55.  , -53.75, -52.5 , -51.25, -50.  , -48.75, -47.5 ,\n",
      "                   -46.25, -45.  , -43.75, -42.5 , -41.25, -40.  , -38.75,\n",
      "                   -37.5 , -36.25, -35.  , -33.75, -32.5 , -31.25, -30.  ,\n",
      "                   -28.75, -27.5 , -26.25, -25.  , -23.75, -22.5 , -21.25,\n",
      "                   -20.  , -18.75, -17.5 , -16.25, -15.  , -13.75, -12.5 ,\n",
      "                   -11.25, -10.  ,  -8.75,  -7.5 ,  -6.25,  -5.  ,  -3.75,\n",
      "                    -2.5 ,  -1.25,   0.  ,   1.25,   2.5 ,   3.75,   5.  ,\n",
      "                     6.25,   7.5 ,   8.75,  10.  ,  11.25,  12.5 ,  13.75,\n",
      "                    15.  ,  16.25,  17.5 ,  18.75,  20.  ,  21.25,  22.5 ,\n",
      "                    23.75,  25.  ,  26.25,  27.5 ,  28.75,  30.  ,  31.25,\n",
      "                    32.5 ,  33.75,  35.  ,  36.25,  37.5 ,  38.75,  40.  ,\n",
      "                    41.25,  42.5 ,  43.75,  45.  ,  46.25,  47.5 ,  48.75,\n",
      "                    50.  ,  51.25,  52.5 ,  53.75,  55.  ,  56.25,  57.5 ,\n",
      "                    58.75,  60.  ,  61.25,  62.5 ,  63.75,  65.  ,  66.25,\n",
      "                    67.5 ,  68.75,  70.  ,  71.25,  72.5 ,  73.75,  75.  ,\n",
      "                    76.25,  77.5 ,  78.75,  80.  ,  81.25,  82.5 ,  83.75,\n",
      "                    85.  ,  86.25,  87.5 ,  88.75,  90.  ],\n",
      "             mask=False,\n",
      "       fill_value=1e+20))\n",
      "Directory: /rdsgpfs/general/user/lm2612/home/Ridge/Notebooks\n",
      "{'Oceania': masked_array(data=[0., 0., 0., ..., 0., 0., 0.],\n",
      "             mask=False,\n",
      "       fill_value=1e+20), 'NHML': masked_array(data=[0., 0., 0., ..., 0., 0., 0.],\n",
      "             mask=False,\n",
      "       fill_value=1e+20), 'NorthPacific': masked_array(data=[0., 0., 0., ..., 0., 0., 0.],\n",
      "             mask=False,\n",
      "       fill_value=1e+20), 'SHHL': masked_array(data=[1., 1., 1., ..., 0., 0., 0.],\n",
      "             mask=False,\n",
      "       fill_value=1e+20), 'IndianOcean': masked_array(data=[0., 0., 0., ..., 0., 0., 0.],\n",
      "             mask=False,\n",
      "       fill_value=1e+20), 'Europe': masked_array(data=[0., 0., 0., ..., 0., 0., 0.],\n",
      "             mask=False,\n",
      "       fill_value=1e+20), 'SouthAmerica': masked_array(data=[0., 0., 0., ..., 0., 0., 0.],\n",
      "             mask=False,\n",
      "       fill_value=1e+20), 'Arctic': masked_array(data=[0., 0., 0., ..., 1., 1., 1.],\n",
      "             mask=False,\n",
      "       fill_value=1e+20), 'EastAsia': masked_array(data=[0., 0., 0., ..., 0., 0., 0.],\n",
      "             mask=False,\n",
      "       fill_value=1e+20), 'NH': masked_array(data=[0., 0., 0., ..., 1., 1., 1.],\n",
      "             mask=False,\n",
      "       fill_value=1e+20), 'NHHL': masked_array(data=[0., 0., 0., ..., 1., 1., 1.],\n",
      "             mask=False,\n",
      "       fill_value=1e+20), 'SouthAsia': masked_array(data=[0., 0., 0., ..., 0., 0., 0.],\n",
      "             mask=False,\n",
      "       fill_value=1e+20), 'SouthPacific': masked_array(data=[0., 0., 0., ..., 0., 0., 0.],\n",
      "             mask=False,\n",
      "       fill_value=1e+20), 'SHML': masked_array(data=[0., 0., 0., ..., 0., 0., 0.],\n",
      "             mask=False,\n",
      "       fill_value=1e+20), 'SouthernOcean': masked_array(data=[0., 0., 0., ..., 0., 0., 0.],\n",
      "             mask=False,\n",
      "       fill_value=1e+20), 'NorthAtlantic': masked_array(data=[0., 0., 0., ..., 0., 0., 0.],\n",
      "             mask=False,\n",
      "       fill_value=1e+20), 'Russia': masked_array(data=[0., 0., 0., ..., 0., 0., 0.],\n",
      "             mask=False,\n",
      "       fill_value=1e+20), 'NorthAmerica': masked_array(data=[0., 0., 0., ..., 0., 0., 0.],\n",
      "             mask=False,\n",
      "       fill_value=1e+20), 'SouthernAfrica': masked_array(data=[0., 0., 0., ..., 0., 0., 0.],\n",
      "             mask=False,\n",
      "       fill_value=1e+20), 'Tropics': masked_array(data=[0., 0., 0., ..., 0., 0., 0.],\n",
      "             mask=False,\n",
      "       fill_value=1e+20), 'Global': masked_array(data=[1., 1., 1., ..., 1., 1., 1.],\n",
      "             mask=False,\n",
      "       fill_value=1e+20), 'SH': masked_array(data=[1., 1., 1., ..., 1., 1., 1.],\n",
      "             mask=False,\n",
      "       fill_value=1e+20), 'Antarctic': masked_array(data=[1., 1., 1., ..., 0., 0., 0.],\n",
      "             mask=False,\n",
      "       fill_value=1e+20), 'NorthernAfrica': masked_array(data=[0., 0., 0., ..., 0., 0., 0.],\n",
      "             mask=False,\n",
      "       fill_value=1e+20), 'SouthAtlantic': masked_array(data=[0., 0., 0., ..., 0., 0., 0.],\n",
      "             mask=False,\n",
      "       fill_value=1e+20)}\n"
     ]
    },
    {
     "name": "stderr",
     "output_type": "stream",
     "text": [
      "/home/lm2612/anaconda3/envs/GP/lib/python3.6/site-packages/sklearn/ensemble/weight_boosting.py:29: DeprecationWarning: numpy.core.umath_tests is an internal NumPy module and should not be imported. It will be removed in a future NumPy release.\n",
      "  from numpy.core.umath_tests import inner1d\n"
     ]
    }
   ],
   "source": [
    "# My python scripts\n",
    "home = os.getenv(\"HOME\")\n",
    "sys.path.insert(0, home+'/Ridge/UMDataModules/')\n",
    "sys.path.insert(0, home+'/Ridge/Inputs/')\n",
    "sys.path.insert(0, home+'/Ridge/PlotModules/')\n",
    "sys.path.insert(0, home+'/Ridge/PredictionModules/')\n",
    "\n",
    "from ImportData import *\n",
    "from PredictionData import *\n",
    "from plotmapfunction import *\n",
    "import numpy as np\n",
    "from sklearn.preprocessing import scale\n",
    "from sklearn.preprocessing import MinMaxScaler\n",
    "from remove_ind import remove_ind\n",
    "from SaveData import *\n",
    "from remove_ind import *\n",
    "import pickle\n",
    "import multiprocessing as mp\n",
    "import copy as cp\n",
    "from Names import *"
   ]
  },
  {
   "cell_type": "code",
   "execution_count": 3,
   "metadata": {},
   "outputs": [
    {
     "name": "stdout",
     "output_type": "stream",
     "text": [
      "['No SO2 East Asia', 'No BC NHML', 'No SO2 NHML', 'No SO2 China', 'No SO2 US', 'No SO2 India', 'No SO2 Europe', 'No Dust Arabia', '2% Solar Constant increase', '3X CH4', '10X CFC-12', '10X Asia SO4', '2X CO2', '10X Asia BC', '10X BC', '10X Europe SO4', '5X SO4', 'pre-industrial SO4', 'No BC Global', '2xCO2 Global', 'No CO Global', 'No OC Global', 'No CH4 Global', 'No SO2 Global', 'No NOX Global', 'No VOC Global']\n"
     ]
    }
   ],
   "source": [
    "print(Names)"
   ]
  },
  {
   "cell_type": "code",
   "execution_count": 4,
   "metadata": {},
   "outputs": [
    {
     "name": "stdout",
     "output_type": "stream",
     "text": [
      "['No SO2 East Asia', 'No BC NHML', 'No SO2 NHML', 'No SO2 China', 'No SO2 US', 'No SO2 Europe', '2% Solar Constant increase', '3X CH4', '10X CFC-12', '10X Asia SO4', '2X CO2', '10X Asia BC', '10X BC', '10X Europe SO4', '5X SO4', 'pre-industrial SO4', 'No BC Global', '2xCO2 Global', 'No CO Global', 'No CH4 Global', 'No SO2 Global']\n"
     ]
    }
   ],
   "source": [
    "Noisy = ['No Dust Arabia','No VOC Global','No SO2 India','No OC Global','No NOX Global']\n",
    "for runname in Noisy:\n",
    "       (Names, [X_SfcTemp,X_GeoHeight500,X_RF,y]) = remove_ind(Names,runname,[X_SfcTemp,X_GeoHeight500,X_RF,y] )\n",
    "print(Names)"
   ]
  },
  {
   "cell_type": "code",
   "execution_count": 5,
   "metadata": {},
   "outputs": [],
   "source": [
    "# What is the predictor X?\n",
    "X = X_SfcTemp\n",
    "X_name = 'SfcTemp'\n",
    "\n",
    "# Any dimension reduction (eg PCA) or full grid?\n",
    "X_type = 'Full'\n",
    "y_type = 'Full'\n",
    "\n",
    "\n",
    "# alpha for regularisation, no of CV\n",
    "alpha_list = np.logspace(-3,8,10)\n",
    "no_of_cv = 5\n",
    "\n",
    "# where to save?\n",
    "savedir = home+'/WORK/RemoveNoiseNew/'\n",
    "save_filename = 'X=SfcTemp_{},y={}_'.format(X_type,y_type)\n",
    "\n",
    "# regions of interest for metrics?\n",
    "from RegionLatitudes  import *\n",
    "#regions_all = ['Global','Europe','US','China','East_Asia','India','NHML','Tropics','Africa','South_America','SHML','Arctic','Austrailia','NH','Tropics','SHML']\n",
    "regions_all = ['Global']+RegionsList\n",
    "d = PredictionData(X, y, Names, lons, lats, lons1, lats1)\n",
    "d.setup(X_type,y_type)\n",
    "\n",
    "d.save_X()"
   ]
  },
  {
   "cell_type": "code",
   "execution_count": null,
   "metadata": {},
   "outputs": [
    {
     "name": "stdout",
     "output_type": "stream",
     "text": [
      "No SO2 East Asia\n",
      "0\n",
      "[0, 1, 2, 3, 4, 5, 6, 7, 8, 9, 10, 11, 12, 13, 14, 15, 16, 17, 18, 19, 20]\n",
      "[1, 2, 3, 4, 5, 6, 7, 8, 9, 10, 11, 12, 13, 14, 15, 16, 17, 18, 19, 20]\n",
      "predict\n",
      "(27840,)\n",
      "No repeated CV Regularisation\n",
      "Return coefs? False\n",
      "[0.01, 0.1, 0.5, 1.0, 2.0]\n"
     ]
    }
   ],
   "source": [
    "%%time \n",
    "name = Names[0]\n",
    "alpha_list = [0.01,0.1,0.5,1.0,2.0]\n",
    "#alpha_list = [1000.,5000.,10000.]\n",
    "d.run(X_type, y_type, 'Ridge', name, cvfolds=no_of_cv, alpha_list=alpha_list, \n",
    "      repeat_regularise=False, coefs=False)"
   ]
  },
  {
   "cell_type": "code",
   "execution_count": 7,
   "metadata": {},
   "outputs": [],
   "source": [
    "nlat, nlon = len(d.lats), len(d.lons) \n",
    "y_pred = d.y_pred.reshape(-1,nlat,nlon) "
   ]
  },
  {
   "cell_type": "code",
   "execution_count": 8,
   "metadata": {},
   "outputs": [
    {
     "ename": "NameError",
     "evalue": "name 'coef' is not defined",
     "output_type": "error",
     "traceback": [
      "\u001b[0;31m---------------------------------------------------------------------------\u001b[0m",
      "\u001b[0;31mNameError\u001b[0m                                 Traceback (most recent call last)",
      "\u001b[0;32m<ipython-input-8-86db5d8b53fd>\u001b[0m in \u001b[0;36m<module>\u001b[0;34m()\u001b[0m\n\u001b[1;32m      1\u001b[0m \u001b[0mplt\u001b[0m\u001b[0;34m.\u001b[0m\u001b[0mfigure\u001b[0m\u001b[0;34m(\u001b[0m\u001b[0mfigsize\u001b[0m\u001b[0;34m=\u001b[0m\u001b[0;34m(\u001b[0m\u001b[0;36m10\u001b[0m\u001b[0;34m,\u001b[0m\u001b[0;36m5\u001b[0m\u001b[0;34m)\u001b[0m\u001b[0;34m)\u001b[0m\u001b[0;34m\u001b[0m\u001b[0;34m\u001b[0m\u001b[0m\n\u001b[0;32m----> 2\u001b[0;31m \u001b[0mmaxlvl\u001b[0m \u001b[0;34m=\u001b[0m \u001b[0;34m(\u001b[0m\u001b[0mnp\u001b[0m\u001b[0;34m.\u001b[0m\u001b[0mmax\u001b[0m\u001b[0;34m(\u001b[0m\u001b[0mnp\u001b[0m\u001b[0;34m.\u001b[0m\u001b[0mabs\u001b[0m\u001b[0;34m(\u001b[0m\u001b[0mcoef\u001b[0m\u001b[0;34m)\u001b[0m\u001b[0;34m)\u001b[0m\u001b[0;34m*\u001b[0m\u001b[0;36m0.8\u001b[0m\u001b[0;34m)\u001b[0m\u001b[0;34m\u001b[0m\u001b[0;34m\u001b[0m\u001b[0m\n\u001b[0m\u001b[1;32m      3\u001b[0m \u001b[0mlevels\u001b[0m \u001b[0;34m=\u001b[0m \u001b[0mnp\u001b[0m\u001b[0;34m.\u001b[0m\u001b[0mlinspace\u001b[0m\u001b[0;34m(\u001b[0m\u001b[0;34m-\u001b[0m\u001b[0mmaxlvl\u001b[0m\u001b[0;34m,\u001b[0m\u001b[0mmaxlvl\u001b[0m\u001b[0;34m,\u001b[0m\u001b[0;36m10\u001b[0m\u001b[0;34m)\u001b[0m\u001b[0;34m\u001b[0m\u001b[0;34m\u001b[0m\u001b[0m\n\u001b[1;32m      4\u001b[0m \u001b[0mplotmap\u001b[0m\u001b[0;34m(\u001b[0m\u001b[0md\u001b[0m\u001b[0;34m.\u001b[0m\u001b[0mlons\u001b[0m\u001b[0;34m,\u001b[0m \u001b[0md\u001b[0m\u001b[0;34m.\u001b[0m\u001b[0mlats\u001b[0m\u001b[0;34m,\u001b[0m \u001b[0my_test\u001b[0m\u001b[0;34m,\u001b[0m \u001b[0msavefile\u001b[0m\u001b[0;34m=\u001b[0m\u001b[0;32mNone\u001b[0m\u001b[0;34m,\u001b[0m \u001b[0mcmap\u001b[0m\u001b[0;34m=\u001b[0m\u001b[0;34m\"RdBu_r\"\u001b[0m\u001b[0;34m,\u001b[0m \u001b[0mlevels\u001b[0m\u001b[0;34m=\u001b[0m\u001b[0mlevels\u001b[0m\u001b[0;34m)\u001b[0m\u001b[0;34m\u001b[0m\u001b[0;34m\u001b[0m\u001b[0m\n\u001b[1;32m      5\u001b[0m \u001b[0mplt\u001b[0m\u001b[0;34m.\u001b[0m\u001b[0mshow\u001b[0m\u001b[0;34m(\u001b[0m\u001b[0;34m)\u001b[0m\u001b[0;34m\u001b[0m\u001b[0;34m\u001b[0m\u001b[0m\n",
      "\u001b[0;31mNameError\u001b[0m: name 'coef' is not defined"
     ]
    }
   ],
   "source": [
    "plt.figure(figsize=(10,5))\n",
    "maxlvl = (np.max(np.abs(coef))*0.8)\n",
    "levels = np.linspace(-maxlvl,maxlvl,10)\n",
    "plotmap(d.lons, d.lats, y_test, savefile=None, cmap=\"RdBu_r\", levels=levels)\n",
    "plt.show()"
   ]
  },
  {
   "cell_type": "code",
   "execution_count": null,
   "metadata": {},
   "outputs": [],
   "source": []
  },
  {
   "cell_type": "code",
   "execution_count": null,
   "metadata": {},
   "outputs": [],
   "source": []
  }
 ],
 "metadata": {
  "kernelspec": {
   "display_name": "Python [conda env:GP]",
   "language": "python",
   "name": "conda-env-GP-py"
  },
  "language_info": {
   "codemirror_mode": {
    "name": "ipython",
    "version": 3
   },
   "file_extension": ".py",
   "mimetype": "text/x-python",
   "name": "python",
   "nbconvert_exporter": "python",
   "pygments_lexer": "ipython3",
   "version": "3.6.8"
  }
 },
 "nbformat": 4,
 "nbformat_minor": 2
}
